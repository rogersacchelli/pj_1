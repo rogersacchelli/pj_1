{
 "cells": [
  {
   "cell_type": "markdown",
   "metadata": {
    "collapsed": true
   },
   "source": [
    "# Self-Driving Nanodegree - Finding Lane Lines"
   ]
  },
  {
   "cell_type": "markdown",
   "metadata": {},
   "source": [
    "This code implements a pipeline where one or more videos can be processed to find left and right lane lines.\n",
    "The pipeline uses opencv as the video streamer, along with other opencv fuctions to help on the whole process."
   ]
  },
  {
   "cell_type": "markdown",
   "metadata": {},
   "source": [
    "#### Please note that Anaconda packages natively does not supports ffmpeg, so Anaconda may not open the video. OpenCV direcly compiled with ffmpeg support is able to open the video using Python3"
   ]
  },
  {
   "cell_type": "code",
   "execution_count": 11,
   "metadata": {
    "collapsed": true
   },
   "outputs": [],
   "source": [
    "import numpy as np\n",
    "import cv2\n",
    "import argparse\n",
    "\n",
    "__autor__ = \"Roger S. Sacchelli - roger.sacchelli@gmail.com\"\n",
    "\n",
    "__doc__ = \"\"\"\n",
    "    -------------------------------------------\n",
    "    ----- Project 1 | Self-driving Car ND -----\n",
    "    -----     Predicting Lane Lines       -----\n",
    "    -------------------------------------------\n",
    "    \"\"\""
   ]
  },
  {
   "cell_type": "markdown",
   "metadata": {},
   "source": [
    "Gaussian function to reduce noise and add some blur"
   ]
  },
  {
   "cell_type": "code",
   "execution_count": 12,
   "metadata": {
    "collapsed": true
   },
   "outputs": [],
   "source": [
    "def gaussian(img, kernel_size=5):\n",
    "    return cv2.GaussianBlur(img, (kernel_size, kernel_size), 0)"
   ]
  },
  {
   "cell_type": "markdown",
   "metadata": {},
   "source": [
    "Border detection with Canny Edge Method"
   ]
  },
  {
   "cell_type": "code",
   "execution_count": 13,
   "metadata": {
    "collapsed": true
   },
   "outputs": [],
   "source": [
    "def canny(blur_stream):\n",
    "    low_threshold = 100\n",
    "    high_threshold = 250\n",
    "    return cv2.Canny(blur_stream, low_threshold, high_threshold)"
   ]
  },
  {
   "cell_type": "markdown",
   "metadata": {},
   "source": [
    "Defining polygon vertices to mask Region of Interst"
   ]
  },
  {
   "cell_type": "code",
   "execution_count": 14,
   "metadata": {
    "collapsed": true
   },
   "outputs": [],
   "source": [
    "def polyg_4_vertices(imshape):\n",
    "\n",
    "    return np.array([[(imshape[1] / 10, imshape[0]), (imshape[1] / 2.5, imshape[0] / 1.5),\n",
    "                      (imshape[1] / 1.6, imshape[0] / 1.5), (imshape[1] / 1.1, imshape[0])]],\n",
    "                    dtype=np.int32)\n",
    "\n",
    "    # return np.array([[(0, imshape[0] / 1), (0, 0),\n",
    "    #                   (imshape[1], 0), (imshape[1], imshape[0] / 1)]],\n",
    "    #                 dtype=np.int32)"
   ]
  },
  {
   "cell_type": "markdown",
   "metadata": {},
   "source": [
    "In order to get a smoother drawing, a moving average is calculated considering the last ten values. By doing that, bumpyness or undesirable noise are filtered"
   ]
  },
  {
   "cell_type": "code",
   "execution_count": 15,
   "metadata": {
    "collapsed": true
   },
   "outputs": [],
   "source": [
    "def smoothed_line(lines, mov_avg=10):\n",
    "    if (lines.shape[0]) / 2 < mov_avg:\n",
    "        mov_avg = lines.shape[0] / 2\n",
    "\n",
    "    x_left_min_smooth = int(np.mean(lines[0:len(lines):2, 0][0:mov_avg]))\n",
    "    y_left_min_smooth = int(np.mean(lines[0:len(lines):2, 1][0:mov_avg]))\n",
    "\n",
    "    x_left_man_smooth = int(np.mean(lines[0:len(lines):2, 2][0:mov_avg]))\n",
    "    y_left_man_smooth = int(np.mean(lines[0:len(lines):2, 3][0:mov_avg]))\n",
    "\n",
    "    x_right_min_smooth = int(np.mean(lines[1:len(lines):2, 0][0:mov_avg]))\n",
    "    y_right_min_smooth = int(np.mean(lines[1:len(lines):2, 1][0:mov_avg]))\n",
    "\n",
    "    x_right_man_smooth = int(np.mean(lines[1:len(lines):2, 2][0:mov_avg]))\n",
    "    y_right_man_smooth = int(np.mean(lines[1:len(lines):2, 3][0:mov_avg]))\n",
    "\n",
    "    return np.array([[[x_left_min_smooth, y_left_min_smooth, x_left_man_smooth, y_left_man_smooth],\n",
    "                      [x_right_min_smooth, y_right_min_smooth, x_right_man_smooth, y_right_man_smooth]]])"
   ]
  },
  {
   "cell_type": "code",
   "execution_count": 16,
   "metadata": {
    "collapsed": true
   },
   "outputs": [],
   "source": [
    "def parser():\n",
    "    parser = argparse.ArgumentParser(description='Challenge-4')\n",
    "    parser.add_argument(\"-f\", \"--file\", type=str, help='video stream to process')\n",
    "    parser.add_argument(\"-v\", \"--verbosity\", action=\"count\", help=\"increase output verbosity\")\n",
    "    args = parser.parse_args()\n",
    "    return args"
   ]
  },
  {
   "cell_type": "markdown",
   "metadata": {},
   "source": [
    "Hough Line Transformation - Using constant parameters"
   ]
  },
  {
   "cell_type": "code",
   "execution_count": 17,
   "metadata": {
    "collapsed": true
   },
   "outputs": [],
   "source": [
    "def hough_trans(frame, masked_edges):\n",
    "    # Define the Hough transform parameters\n",
    "    # Make a blank the same size as our image to draw on\n",
    "\n",
    "    rho = 1  # distance resolution in pixels of the Hough grid\n",
    "    theta = np.pi / 180  # angular resolution in radians of the Hough grid\n",
    "    threshold = 15  # minimum number of votes (intersections in Hough grid cell)\n",
    "    min_line_length = 3  # minimum number of pixels making up a line\n",
    "    max_line_gap = 3  # maximum gap in pixels between connectable line segments\n",
    "\n",
    "    line_image = np.copy(frame) * 0  # creating a blank to draw lines on\n",
    "\n",
    "    # Run Hough on edge detected image\n",
    "    # Output \"lines\" is an array containing endpoints of detected line segments\n",
    "    return cv2.HoughLinesP(masked_edges, rho, theta, threshold, np.array([]),\n",
    "                           min_line_length, max_line_gap), line_image"
   ]
  },
  {
   "cell_type": "markdown",
   "metadata": {},
   "source": [
    "lanes_drawing is a bit more complex function which receives the hough transform and image shape as input.\n",
    "\n",
    "As is put on function doc, it evaluates if each 'line' from hough transform can be regarded as lane line.\n",
    "\n",
    "Evaluation is performed by calculating angular (m_line) coefficient for hough line, if m_line exceeds an\n",
    "arbitrary threshold it's disregarded as lane line. This method highly increases the accuracy of the system.\n",
    "\n",
    "After processing this preliminary evaliation, two sets of lines are returned:\n",
    "    \n",
    "    * left lanes\n",
    "    * right lanes\n",
    "   \n",
    "A mean of each set is calculated and from this mean, a new linear and angular coefficient is calculated. Both values are used to draw a final left and right lane line. This is the extrapolation part."
   ]
  },
  {
   "cell_type": "code",
   "execution_count": 18,
   "metadata": {
    "collapsed": true
   },
   "outputs": [],
   "source": [
    "def lanes_drawing(hough_lines, img_shape):\n",
    "\n",
    "    \"\"\"\"Receives as inputs the hough transform 'lines'\n",
    "        Evaluates if each input line can be regarded as lane line\n",
    "\n",
    "        Determines both angular and linear coefficients for lane line by\n",
    "        averaging the filtered hough lines\n",
    "\n",
    "        Extrapolate a lane line by drawing a longer line using previously\n",
    "        calculated coefficients\"\"\"\n",
    "\n",
    "    # left/right lane line criteria\n",
    "    x_center = img_shape[1] / 2\n",
    "    y_center = img_shape[0] / 2\n",
    "\n",
    "    # separates left and right lane points\n",
    "    # discard the hough line if it's angular coefficient (m_line)\n",
    "    # do not pose as a lane angle (left lane < -0.3 | right lane > 0.3)\n",
    "\n",
    "    for l in hough_lines:\n",
    "        # check which portion of image line l strictly belongs to\n",
    "        try:\n",
    "            m_line = float(l[0][3] - l[0][1]) / float(l[0][2] - l[0][0])\n",
    "            if (l[0][0] and l[0][2]) <= x_center and (l[0][1] and l[0][3]) >= y_center*1.1:\n",
    "                if m_line < -0.3:\n",
    "                    try:\n",
    "                        left_band = np.concatenate((left_band, l[:]))\n",
    "                    except:\n",
    "                        left_band = np.concatenate(([l[:]]))\n",
    "            elif (l[0][0] and l[0][2]) >= x_center and (l[0][1] and l[0][3]) >= y_center*1.1:\n",
    "                if m_line > 0.3:\n",
    "                    try:\n",
    "                        right_band = np.concatenate((right_band, l[:]))\n",
    "                    except:\n",
    "                        right_band = np.concatenate(([l[:]]))\n",
    "        except:\n",
    "            pass\n",
    "\n",
    "    x_min_left_points = np.sort(left_band[:, [0]], axis=0)\n",
    "    y_min_left_points = np.sort(left_band[:, [1]], axis=0)\n",
    "    x_max_left_points = np.sort(left_band[:, [2]], axis=0)\n",
    "    y_max_left_points = np.sort(left_band[:, [3]], axis=0)\n",
    "\n",
    "    x_min_right_points = np.sort(right_band[:, [0]], axis=0)\n",
    "    y_min_right_points = np.sort(right_band[:, [1]], axis=0)\n",
    "    x_max_right_points = np.sort(right_band[:, [2]], axis=0)\n",
    "    y_max_right_points = np.sort(right_band[:, [3]], axis=0)\n",
    "\n",
    "    x_min_left = int(np.mean(x_min_left_points))\n",
    "    y_min_left = int(np.mean(y_min_left_points[::-1]))\n",
    "\n",
    "    x_max_left = int(np.mean(x_max_left_points))\n",
    "    y_max_left = int(np.mean(y_max_left_points))\n",
    "\n",
    "    x_min_right = int(np.mean(x_min_right_points))\n",
    "    y_min_right = int(np.mean(y_min_right_points))\n",
    "\n",
    "    x_max_right = int(np.mean(x_max_right_points))\n",
    "    y_max_right = int(np.mean(y_max_right_points[::-1]))\n",
    "\n",
    "    # extrapolate over line averaging\n",
    "\n",
    "    m_left = float(y_max_left - y_min_left) / float(x_max_left - x_min_left)\n",
    "\n",
    "    m_right = float(y_max_right - y_min_right) / float(x_max_right - x_min_right)\n",
    "\n",
    "    b_left = float(y_max_left) - (m_left * x_max_left)\n",
    "    b_right = float(y_max_right) - (m_right * x_max_right)\n",
    "\n",
    "    x_min_left = int(-b_left / m_left) - img_shape[1]\n",
    "    y_min_left = int(m_left * x_min_left + b_left)\n",
    "\n",
    "    x_min_right = int(-b_right / m_right) + img_shape[1]\n",
    "    y_min_right = int(m_right * x_min_right + b_right)\n",
    "\n",
    "    x_max_left = int(x_center * 0.88)\n",
    "    y_max_left = int(m_left * x_max_left + b_left)\n",
    "\n",
    "    x_max_right = int(x_center * 1.12)\n",
    "    y_max_right = int(m_right * x_max_right + b_right)\n",
    "\n",
    "    left_lane = np.array([[x_min_left, y_min_left, x_max_left, y_max_left]])\n",
    "    right_lane = np.array([[x_min_right, y_min_right, x_max_right, y_max_right]])\n",
    "\n",
    "    return np.array([left_lane, right_lane])"
   ]
  },
  {
   "cell_type": "markdown",
   "metadata": {},
   "source": [
    "Main() starts calling doc string and argparse which helps to select the input file, which can be a single file or a list of files separeted by commas."
   ]
  },
  {
   "cell_type": "code",
   "execution_count": null,
   "metadata": {
    "collapsed": true
   },
   "outputs": [],
   "source": []
  },
  {
   "cell_type": "markdown",
   "metadata": {},
   "source": [
    "Argparse - insert list of videos to be processed, for Jupyter notebook version it's commented and loaded files are all mp4 videos from project initial commit."
   ]
  },
  {
   "cell_type": "code",
   "execution_count": 19,
   "metadata": {
    "collapsed": false,
    "scrolled": true
   },
   "outputs": [],
   "source": [
    "def main():\n",
    "    print (__doc__)\n",
    "    #args = parser()\n",
    "    \n",
    "    # Opening video stream\n",
    "    for f in ['challenge.mp4','solidWhiteRight.mp4','solidYellowLeft.mp4']:\n",
    "        \n",
    "        cap = cv2.VideoCapture(f)\n",
    "\n",
    "        while (cap.isOpened()):\n",
    "\n",
    "            ret, frame = cap.read()\n",
    "\n",
    "            # Define a kernel size and apply Gaussian smoothing\n",
    "            try:\n",
    "                blur_stream = gaussian(kernel_size=5, img=frame)\n",
    "            except:\n",
    "                break\n",
    "\n",
    "            # Canny Edge detection\n",
    "            stream_edges = canny(blur_stream)\n",
    "\n",
    "            # Next we'll create a masked edges image using cv2.fillPoly()\n",
    "            mask = np.zeros_like(stream_edges)\n",
    "            ignore_mask_color = 255\n",
    "\n",
    "            # This time we are defining a four sided polygon to mask\n",
    "            vertices = polyg_4_vertices(imshape=frame.shape)\n",
    "\n",
    "            # Applying polygon\n",
    "            cv2.fillPoly(mask, vertices, ignore_mask_color)\n",
    "            masked_edges = cv2.bitwise_and(stream_edges, mask)\n",
    "\n",
    "            lines, line_image = hough_trans(frame, masked_edges)\n",
    "\n",
    "            # After hough transform, calculate moving average and add to image\n",
    "            if lines is not None:\n",
    "\n",
    "                lane_lines = lanes_drawing(lines, frame.shape)\n",
    "\n",
    "                try:\n",
    "                    for l in lane_lines:\n",
    "                        all_lines = np.concatenate((all_lines, l))\n",
    "                except Exception as e:\n",
    "                    all_lines = np.concatenate(lane_lines)\n",
    "                    # print(e)\n",
    "\n",
    "                \n",
    "                # smooth lines are returned to be added to image\n",
    "                average_lines = smoothed_line(all_lines[::-1])\n",
    "\n",
    "                # This method directly prints every point to stream\n",
    "                for line in average_lines:\n",
    "                    for x1, y1, x2, y2 in line:\n",
    "                        cv2.line(line_image, (x1, y1), (x2, y2), (0, 0, 255), 10)\n",
    "\n",
    "                # Create a \"color\" binary image to combine with line image\n",
    "                # color_edges = np.dstack((stream_edges, stream_edges, stream_edges))\n",
    "\n",
    "                # Draw the lines on the edge image\n",
    "                lines_edges = cv2.addWeighted(frame, 0.8, line_image, 1, 0)\n",
    "\n",
    "                cv2.imshow('frame', lines_edges)\n",
    "\n",
    "            elif lines is None:\n",
    "                cv2.imshow('frame', frame)\n",
    "\n",
    "            if cv2.waitKey(15) & 0xFF == ord('q'):\n",
    "                break\n",
    "\n",
    "        cap.release()\n",
    "        cv2.destroyAllWindows()"
   ]
  },
  {
   "cell_type": "code",
   "execution_count": 20,
   "metadata": {
    "collapsed": false
   },
   "outputs": [
    {
     "name": "stdout",
     "output_type": "stream",
     "text": [
      "\n",
      "    -------------------------------------------\n",
      "    ----- Project 1 | Self-driving Car ND -----\n",
      "    -----     Predicting Lane Lines       -----\n",
      "    -------------------------------------------\n",
      "    \n"
     ]
    },
    {
     "name": "stderr",
     "output_type": "stream",
     "text": [
      "/usr/local/lib/python3.4/dist-packages/ipykernel/__main__.py:5: VisibleDeprecationWarning: using a non-integer number instead of an integer will result in an error in the future\n",
      "/usr/local/lib/python3.4/dist-packages/ipykernel/__main__.py:6: VisibleDeprecationWarning: using a non-integer number instead of an integer will result in an error in the future\n",
      "/usr/local/lib/python3.4/dist-packages/ipykernel/__main__.py:8: VisibleDeprecationWarning: using a non-integer number instead of an integer will result in an error in the future\n",
      "/usr/local/lib/python3.4/dist-packages/ipykernel/__main__.py:9: VisibleDeprecationWarning: using a non-integer number instead of an integer will result in an error in the future\n",
      "/usr/local/lib/python3.4/dist-packages/ipykernel/__main__.py:11: VisibleDeprecationWarning: using a non-integer number instead of an integer will result in an error in the future\n",
      "/usr/local/lib/python3.4/dist-packages/ipykernel/__main__.py:12: VisibleDeprecationWarning: using a non-integer number instead of an integer will result in an error in the future\n",
      "/usr/local/lib/python3.4/dist-packages/ipykernel/__main__.py:14: VisibleDeprecationWarning: using a non-integer number instead of an integer will result in an error in the future\n",
      "/usr/local/lib/python3.4/dist-packages/ipykernel/__main__.py:15: VisibleDeprecationWarning: using a non-integer number instead of an integer will result in an error in the future\n"
     ]
    }
   ],
   "source": [
    "if __name__ == '__main__':\n",
    "    main()"
   ]
  },
  {
   "cell_type": "markdown",
   "metadata": {},
   "source": [
    "### Reflection over PJ 1\n",
    "\n",
    "After completing the project, here is a list of feature that could be implemented to improve the quality of the project:\n",
    "\n",
    "1) During turns, dynamicly calculate the length of the solid lines, otherwise they show a uneven balance, one shorter than the other depending on the side of the turn\n",
    "\n",
    "2) Dynamicaly calculate Hough transform parameters, since the line recognition is directly impacted by the image quality, and consequently improving the number of detected lines on the fly.\n",
    "\n"
   ]
  }
 ],
 "metadata": {
  "anaconda-cloud": {},
  "kernelspec": {
   "display_name": "Python 3",
   "language": "python",
   "name": "python3"
  },
  "language_info": {
   "codemirror_mode": {
    "name": "ipython",
    "version": 3
   },
   "file_extension": ".py",
   "mimetype": "text/x-python",
   "name": "python",
   "nbconvert_exporter": "python",
   "pygments_lexer": "ipython3",
   "version": "3.4.3"
  }
 },
 "nbformat": 4,
 "nbformat_minor": 0
}
